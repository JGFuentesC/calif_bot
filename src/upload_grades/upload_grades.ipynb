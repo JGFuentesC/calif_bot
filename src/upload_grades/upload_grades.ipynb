{
 "cells": [
  {
   "cell_type": "markdown",
   "metadata": {},
   "source": [
    "## Dependencies "
   ]
  },
  {
   "cell_type": "code",
   "execution_count": 8,
   "metadata": {},
   "outputs": [],
   "source": [
    "import pandas as pd \n",
    "from google.cloud import firestore      "
   ]
  },
  {
   "cell_type": "raw",
   "metadata": {
    "vscode": {
     "languageId": "raw"
    }
   },
   "source": [
    "Copy from your spreadsheet all grades data, it should contain the following columns:\n",
    "-student_name\n",
    "-student_id\n",
    "-grade\n",
    "-course\n",
    "-university\n",
    "\n",
    "Example: \n",
    "\n",
    "student_name\tstudent_id\tgrade\tsubject\tuniversity\n",
    "JANE DOE\t123456\t9.7\tcalculus\tMIT\n",
    "JOHN DOE\t78910\t9.8\tphysics\tMIT"
   ]
  },
  {
   "cell_type": "markdown",
   "metadata": {},
   "source": [
    "## Read data "
   ]
  },
  {
   "cell_type": "code",
   "execution_count": 9,
   "metadata": {},
   "outputs": [
    {
     "data": {
      "text/html": [
       "<div>\n",
       "<style scoped>\n",
       "    .dataframe tbody tr th:only-of-type {\n",
       "        vertical-align: middle;\n",
       "    }\n",
       "\n",
       "    .dataframe tbody tr th {\n",
       "        vertical-align: top;\n",
       "    }\n",
       "\n",
       "    .dataframe thead th {\n",
       "        text-align: right;\n",
       "    }\n",
       "</style>\n",
       "<table border=\"1\" class=\"dataframe\">\n",
       "  <thead>\n",
       "    <tr style=\"text-align: right;\">\n",
       "      <th></th>\n",
       "      <th>student_name</th>\n",
       "      <th>student_id</th>\n",
       "      <th>grade</th>\n",
       "      <th>course</th>\n",
       "      <th>university</th>\n",
       "    </tr>\n",
       "  </thead>\n",
       "  <tbody>\n",
       "    <tr>\n",
       "      <th>0</th>\n",
       "      <td>JUAN PEREZ</td>\n",
       "      <td>123456</td>\n",
       "      <td>9.9</td>\n",
       "      <td>programación paralela y concurrente</td>\n",
       "      <td>UNAM</td>\n",
       "    </tr>\n",
       "    <tr>\n",
       "      <th>1</th>\n",
       "      <td>JOSE FUENTES</td>\n",
       "      <td>123</td>\n",
       "      <td>9.9</td>\n",
       "      <td>programación paralela y concurrente</td>\n",
       "      <td>UNAM</td>\n",
       "    </tr>\n",
       "    <tr>\n",
       "      <th>2</th>\n",
       "      <td>MARIELA DOMINGUEZ</td>\n",
       "      <td>345</td>\n",
       "      <td>10.0</td>\n",
       "      <td>aprendizaje supervisado</td>\n",
       "      <td>UNAM</td>\n",
       "    </tr>\n",
       "    <tr>\n",
       "      <th>3</th>\n",
       "      <td>DENISE GARCIA</td>\n",
       "      <td>789</td>\n",
       "      <td>10.0</td>\n",
       "      <td>aprendizaje supervisado</td>\n",
       "      <td>UNAM</td>\n",
       "    </tr>\n",
       "  </tbody>\n",
       "</table>\n",
       "</div>"
      ],
      "text/plain": [
       "        student_name  student_id  grade                               course  \\\n",
       "0         JUAN PEREZ      123456    9.9  programación paralela y concurrente   \n",
       "1       JOSE FUENTES         123    9.9  programación paralela y concurrente   \n",
       "2  MARIELA DOMINGUEZ         345   10.0              aprendizaje supervisado   \n",
       "3      DENISE GARCIA         789   10.0              aprendizaje supervisado   \n",
       "\n",
       "  university  \n",
       "0       UNAM  \n",
       "1       UNAM  \n",
       "2       UNAM  \n",
       "3       UNAM  "
      ]
     },
     "execution_count": 9,
     "metadata": {},
     "output_type": "execute_result"
    }
   ],
   "source": [
    "data = pd.read_clipboard()\n",
    "data.head()"
   ]
  },
  {
   "cell_type": "markdown",
   "metadata": {},
   "source": [
    "## Write to Firestore"
   ]
  },
  {
   "cell_type": "code",
   "execution_count": 11,
   "metadata": {},
   "outputs": [],
   "source": [
    "def write_to_firestore(data):\n",
    "    db = firestore.Client()\n",
    "    batch = db.batch()\n",
    "\n",
    "    for index, row in data.iterrows():\n",
    "        doc_ref = db.collection(row['university']).document(str(row['student_id']))\n",
    "        batch.set(doc_ref, {\n",
    "            'student_name': row['student_name'],\n",
    "            'grades': {\n",
    "                    row['course']: {\n",
    "                        'grade': row['grade']\n",
    "                    }\n",
    "            }\n",
    "        }, merge=True)  \n",
    "\n",
    "    batch.commit()\n"
   ]
  },
  {
   "cell_type": "code",
   "execution_count": 12,
   "metadata": {},
   "outputs": [],
   "source": [
    "write_to_firestore(data)"
   ]
  }
 ],
 "metadata": {
  "kernelspec": {
   "display_name": "Bot Calif",
   "language": "python",
   "name": "calif-bot"
  },
  "language_info": {
   "codemirror_mode": {
    "name": "ipython",
    "version": 3
   },
   "file_extension": ".py",
   "mimetype": "text/x-python",
   "name": "python",
   "nbconvert_exporter": "python",
   "pygments_lexer": "ipython3",
   "version": "3.13.2"
  }
 },
 "nbformat": 4,
 "nbformat_minor": 2
}
